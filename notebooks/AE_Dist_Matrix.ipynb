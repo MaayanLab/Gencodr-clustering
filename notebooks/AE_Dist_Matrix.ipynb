{
 "cells": [
  {
   "cell_type": "markdown",
   "metadata": {},
   "source": [
    "# Imports"
   ]
  },
  {
   "cell_type": "code",
   "execution_count": 1,
   "metadata": {},
   "outputs": [],
   "source": [
    "import os\n",
    "import numpy as np\n",
    "import scipy as sp\n",
    "import pandas as pd"
   ]
  },
  {
   "cell_type": "code",
   "execution_count": 2,
   "metadata": {},
   "outputs": [
    {
     "name": "stderr",
     "output_type": "stream",
     "text": [
      "/anaconda3/lib/python3.6/site-packages/h5py/__init__.py:36: FutureWarning: Conversion of the second argument of issubdtype from `float` to `np.floating` is deprecated. In future, it will be treated as `np.float64 == np.dtype(float).type`.\n",
      "  from ._conv import register_converters as _register_converters\n"
     ]
    }
   ],
   "source": [
    "import h5py\n",
    "import h5sparse\n",
    "from scipy.sparse import csc_matrix, csr_matrix, coo_matrix, vstack\n",
    "import matplotlib.pyplot as plt\n",
    "\n",
    "from sklearn.metrics.pairwise import cosine_similarity"
   ]
  },
  {
   "cell_type": "code",
   "execution_count": 3,
   "metadata": {},
   "outputs": [],
   "source": [
    "from sklearn.preprocessing import normalize\n",
    "from sklearn.metrics import pairwise_distances"
   ]
  },
  {
   "cell_type": "code",
   "execution_count": 4,
   "metadata": {},
   "outputs": [
    {
     "name": "stderr",
     "output_type": "stream",
     "text": [
      "Using TensorFlow backend.\n"
     ]
    }
   ],
   "source": [
    "os.chdir('../scripts')\n",
    "from gvm_scripts import *\n",
    "from vae_scripts import *\n",
    "os.chdir('../notebooks')"
   ]
  },
  {
   "cell_type": "code",
   "execution_count": 5,
   "metadata": {},
   "outputs": [],
   "source": [
    "all_genes = pd.read_csv('../data/AE/genes_info.tsv', sep='\\t', index_col=0)"
   ]
  },
  {
   "cell_type": "markdown",
   "metadata": {},
   "source": [
    "# Format gmt"
   ]
  },
  {
   "cell_type": "markdown",
   "metadata": {},
   "source": [
    "### Convert to gene vector matrix (gvm)"
   ]
  },
  {
   "cell_type": "code",
   "execution_count": 6,
   "metadata": {},
   "outputs": [],
   "source": [
    "gmt_fname = '../data/demo.txt'\n",
    "\n",
    "lib_name = os.path.splitext(gmt_fname.rsplit('/', 1)[-1])[0]\n",
    "gvm_fname = '../data/' + lib_name + '.h5'\n",
    "formatted_gvm_fname = '../data/' + lib_name + '_FORMATTED.h5'"
   ]
  },
  {
   "cell_type": "code",
   "execution_count": 7,
   "metadata": {},
   "outputs": [],
   "source": [
    "if os.path.isfile(gvm_fname): \n",
    "    gvm = open_gvm(gvm_fname)\n",
    "else:\n",
    "    gvm = convert_genesetlist(get_genesetlist(gmt_fname, 'gmt_fname'), \n",
    "                              to='gvm_h5', output_fname=gvm_fname)"
   ]
  },
  {
   "cell_type": "code",
   "execution_count": 8,
   "metadata": {},
   "outputs": [
    {
     "data": {
      "text/plain": [
       "(70, 23289)"
      ]
     },
     "execution_count": 8,
     "metadata": {},
     "output_type": "execute_result"
    }
   ],
   "source": [
    "gvm['gvm'].shape"
   ]
  },
  {
   "cell_type": "markdown",
   "metadata": {},
   "source": [
    "Each row gene-vector is a geneset. The number of rows is the number of samples; the number of columns is the total number of genes."
   ]
  },
  {
   "cell_type": "markdown",
   "metadata": {},
   "source": [
    "### Re-initialize gene column-index to match that of the matrix used to train the autoencoder"
   ]
  },
  {
   "cell_type": "code",
   "execution_count": 9,
   "metadata": {},
   "outputs": [
    {
     "name": "stdout",
     "output_type": "stream",
     "text": [
      "../data/trunc_alz_genes_proper.gmt.h5:\n",
      "\t8445 out of 23289 genes were removed.\n",
      "\t3629 genes were mapped onto a pre-existing gene.\n",
      "\t0 out of 70 labels were removed.\n"
     ]
    }
   ],
   "source": [
    "summary = format_gvm_h5(gvm_fname = gvm_fname, all_genes = all_genes,\n",
    "                       output_fname = formatted_gvm_fname, max_gs_loss=1.0, min_gs_size=1,\n",
    "                       overwrite = False, return_value='summary')"
   ]
  },
  {
   "cell_type": "markdown",
   "metadata": {},
   "source": [
    "Genes not in the data used to train the autoencoder are removed. Missing genes are added as empty columns. If a geneset loses a proportion of its genes greater than `max_gs_loss`, or if its number of genes is less than `min_gs_size`, it is removed from the gvm."
   ]
  },
  {
   "cell_type": "code",
   "execution_count": 10,
   "metadata": {},
   "outputs": [
    {
     "data": {
      "text/plain": [
       "(70, 19996)"
      ]
     },
     "execution_count": 10,
     "metadata": {},
     "output_type": "execute_result"
    }
   ],
   "source": [
    "n_labels, n_genes = get_gvm_size(formatted_gvm_fname)\n",
    "(n_labels, n_genes)"
   ]
  },
  {
   "cell_type": "markdown",
   "metadata": {},
   "source": [
    "# Get Latent Space Embedding"
   ]
  },
  {
   "cell_type": "markdown",
   "metadata": {},
   "source": [
    "### Construct autoencoder"
   ]
  },
  {
   "cell_type": "code",
   "execution_count": 11,
   "metadata": {},
   "outputs": [],
   "source": [
    "group = 'AE' # vanilla autoencoder\n",
    "\n",
    "batch_size = 128\n",
    "m = 1000 # middle dimension\n",
    "l = 50 # latent dimension"
   ]
  },
  {
   "cell_type": "code",
   "execution_count": 12,
   "metadata": {},
   "outputs": [
    {
     "name": "stdout",
     "output_type": "stream",
     "text": [
      "WARNING:tensorflow:From /anaconda3/lib/python3.6/site-packages/tensorflow/python/framework/op_def_library.py:263: colocate_with (from tensorflow.python.framework.ops) is deprecated and will be removed in a future version.\n",
      "Instructions for updating:\n",
      "Colocations handled automatically by placer.\n"
     ]
    }
   ],
   "source": [
    "model = build_vae(input_dim=n_genes, middle_dim = m, latent_dim = l, \n",
    "                  batch_size=batch_size, optimizer='Adamax', lr=.001)\n",
    "vae, enc, dec = (model['vae'], model['enc'], model['dec'])\n",
    "vae.load_weights('../models/%s/weights/%04dm_%04dl.h5'%(group, m, l))            "
   ]
  },
  {
   "cell_type": "markdown",
   "metadata": {},
   "source": [
    "### Encode genesets"
   ]
  },
  {
   "cell_type": "code",
   "execution_count": 13,
   "metadata": {},
   "outputs": [
    {
     "data": {
      "text/plain": [
       "(70, 50)"
      ]
     },
     "execution_count": 13,
     "metadata": {},
     "output_type": "execute_result"
    }
   ],
   "source": [
    "z = enc.predict_generator(\n",
    "    GeneVec_Generator(formatted_gvm_fname, gvm_path='gvm', batch_size=1000, shuffle=False),\n",
    "    workers=4, use_multiprocessing=True, verbose=0)\n",
    "z.shape"
   ]
  },
  {
   "cell_type": "markdown",
   "metadata": {},
   "source": [
    "# Compute Proximity Matrices"
   ]
  },
  {
   "cell_type": "markdown",
   "metadata": {},
   "source": [
    "### Euclidean distance"
   ]
  },
  {
   "cell_type": "code",
   "execution_count": 14,
   "metadata": {},
   "outputs": [],
   "source": [
    "euc_dist = pairwise_distances(z, metric='euclidean')"
   ]
  },
  {
   "cell_type": "code",
   "execution_count": 15,
   "metadata": {},
   "outputs": [
    {
     "data": {
      "text/plain": [
       "(0.0, 117.33293)"
      ]
     },
     "execution_count": 15,
     "metadata": {},
     "output_type": "execute_result"
    }
   ],
   "source": [
    "np.min(euc_dist), np.max(euc_dist)"
   ]
  },
  {
   "cell_type": "markdown",
   "metadata": {},
   "source": [
    "### Cosine similarity"
   ]
  },
  {
   "cell_type": "code",
   "execution_count": 16,
   "metadata": {},
   "outputs": [],
   "source": [
    "cos_sim = cosine_similarity(z)"
   ]
  },
  {
   "cell_type": "code",
   "execution_count": 17,
   "metadata": {},
   "outputs": [
    {
     "data": {
      "text/plain": [
       "(-0.055102646, 1.0000004)"
      ]
     },
     "execution_count": 17,
     "metadata": {},
     "output_type": "execute_result"
    }
   ],
   "source": [
    "np.min(cos_sim), np.max(cos_sim)"
   ]
  },
  {
   "cell_type": "markdown",
   "metadata": {},
   "source": [
    "### Save results to pd.DataFrame"
   ]
  },
  {
   "cell_type": "code",
   "execution_count": 18,
   "metadata": {},
   "outputs": [],
   "source": [
    "labels = open_gvm(formatted_gvm_fname)['idx']\n",
    "\n",
    "euc_dist_df = pd.DataFrame(euc_dist, index=labels, columns=labels)\n",
    "cos_sim_df = pd.DataFrame(cos_sim, index=labels, columns=labels) "
   ]
  },
  {
   "cell_type": "code",
   "execution_count": 19,
   "metadata": {},
   "outputs": [
    {
     "data": {
      "text/html": [
       "<div>\n",
       "<style scoped>\n",
       "    .dataframe tbody tr th:only-of-type {\n",
       "        vertical-align: middle;\n",
       "    }\n",
       "\n",
       "    .dataframe tbody tr th {\n",
       "        vertical-align: top;\n",
       "    }\n",
       "\n",
       "    .dataframe thead th {\n",
       "        text-align: right;\n",
       "    }\n",
       "</style>\n",
       "<table border=\"1\" class=\"dataframe\">\n",
       "  <thead>\n",
       "    <tr style=\"text-align: right;\">\n",
       "      <th></th>\n",
       "      <th>GSE103359_S14061_mm9_genesdiff_groups_F382</th>\n",
       "      <th>GSE103359_S15010_genesdiff_HS179_HS190_F330</th>\n",
       "      <th>GSE104704_F600</th>\n",
       "      <th>GSE111789_down_S200</th>\n",
       "      <th>GSE111789_up_S200</th>\n",
       "    </tr>\n",
       "  </thead>\n",
       "  <tbody>\n",
       "    <tr>\n",
       "      <th>GSE103359_S14061_mm9_genesdiff_groups_F382</th>\n",
       "      <td>0.000000</td>\n",
       "      <td>13.403594</td>\n",
       "      <td>22.606493</td>\n",
       "      <td>17.122360</td>\n",
       "      <td>17.807388</td>\n",
       "    </tr>\n",
       "    <tr>\n",
       "      <th>GSE103359_S15010_genesdiff_HS179_HS190_F330</th>\n",
       "      <td>13.403594</td>\n",
       "      <td>0.000000</td>\n",
       "      <td>18.056818</td>\n",
       "      <td>20.566029</td>\n",
       "      <td>18.063286</td>\n",
       "    </tr>\n",
       "    <tr>\n",
       "      <th>GSE104704_F600</th>\n",
       "      <td>22.606493</td>\n",
       "      <td>18.056818</td>\n",
       "      <td>0.000000</td>\n",
       "      <td>27.346394</td>\n",
       "      <td>27.705006</td>\n",
       "    </tr>\n",
       "    <tr>\n",
       "      <th>GSE111789_down_S200</th>\n",
       "      <td>17.122360</td>\n",
       "      <td>20.566029</td>\n",
       "      <td>27.346394</td>\n",
       "      <td>0.000000</td>\n",
       "      <td>15.347730</td>\n",
       "    </tr>\n",
       "    <tr>\n",
       "      <th>GSE111789_up_S200</th>\n",
       "      <td>17.807388</td>\n",
       "      <td>18.063286</td>\n",
       "      <td>27.705006</td>\n",
       "      <td>15.347730</td>\n",
       "      <td>0.000000</td>\n",
       "    </tr>\n",
       "  </tbody>\n",
       "</table>\n",
       "</div>"
      ],
      "text/plain": [
       "                                             GSE103359_S14061_mm9_genesdiff_groups_F382  \\\n",
       "GSE103359_S14061_mm9_genesdiff_groups_F382                                     0.000000   \n",
       "GSE103359_S15010_genesdiff_HS179_HS190_F330                                   13.403594   \n",
       "GSE104704_F600                                                                22.606493   \n",
       "GSE111789_down_S200                                                           17.122360   \n",
       "GSE111789_up_S200                                                             17.807388   \n",
       "\n",
       "                                             GSE103359_S15010_genesdiff_HS179_HS190_F330  \\\n",
       "GSE103359_S14061_mm9_genesdiff_groups_F382                                     13.403594   \n",
       "GSE103359_S15010_genesdiff_HS179_HS190_F330                                     0.000000   \n",
       "GSE104704_F600                                                                 18.056818   \n",
       "GSE111789_down_S200                                                            20.566029   \n",
       "GSE111789_up_S200                                                              18.063286   \n",
       "\n",
       "                                             GSE104704_F600  \\\n",
       "GSE103359_S14061_mm9_genesdiff_groups_F382        22.606493   \n",
       "GSE103359_S15010_genesdiff_HS179_HS190_F330       18.056818   \n",
       "GSE104704_F600                                     0.000000   \n",
       "GSE111789_down_S200                               27.346394   \n",
       "GSE111789_up_S200                                 27.705006   \n",
       "\n",
       "                                             GSE111789_down_S200  \\\n",
       "GSE103359_S14061_mm9_genesdiff_groups_F382             17.122360   \n",
       "GSE103359_S15010_genesdiff_HS179_HS190_F330            20.566029   \n",
       "GSE104704_F600                                         27.346394   \n",
       "GSE111789_down_S200                                     0.000000   \n",
       "GSE111789_up_S200                                      15.347730   \n",
       "\n",
       "                                             GSE111789_up_S200  \n",
       "GSE103359_S14061_mm9_genesdiff_groups_F382           17.807388  \n",
       "GSE103359_S15010_genesdiff_HS179_HS190_F330          18.063286  \n",
       "GSE104704_F600                                       27.705006  \n",
       "GSE111789_down_S200                                  15.347730  \n",
       "GSE111789_up_S200                                     0.000000  "
      ]
     },
     "execution_count": 19,
     "metadata": {},
     "output_type": "execute_result"
    }
   ],
   "source": [
    "euc_dist_df.iloc[:5, :5]"
   ]
  },
  {
   "cell_type": "code",
   "execution_count": 20,
   "metadata": {
    "scrolled": true
   },
   "outputs": [
    {
     "data": {
      "text/html": [
       "<div>\n",
       "<style scoped>\n",
       "    .dataframe tbody tr th:only-of-type {\n",
       "        vertical-align: middle;\n",
       "    }\n",
       "\n",
       "    .dataframe tbody tr th {\n",
       "        vertical-align: top;\n",
       "    }\n",
       "\n",
       "    .dataframe thead th {\n",
       "        text-align: right;\n",
       "    }\n",
       "</style>\n",
       "<table border=\"1\" class=\"dataframe\">\n",
       "  <thead>\n",
       "    <tr style=\"text-align: right;\">\n",
       "      <th></th>\n",
       "      <th>GSE103359_S14061_mm9_genesdiff_groups_F382</th>\n",
       "      <th>GSE103359_S15010_genesdiff_HS179_HS190_F330</th>\n",
       "      <th>GSE104704_F600</th>\n",
       "      <th>GSE111789_down_S200</th>\n",
       "      <th>GSE111789_up_S200</th>\n",
       "    </tr>\n",
       "  </thead>\n",
       "  <tbody>\n",
       "    <tr>\n",
       "      <th>GSE103359_S14061_mm9_genesdiff_groups_F382</th>\n",
       "      <td>1.000000</td>\n",
       "      <td>0.665615</td>\n",
       "      <td>0.619709</td>\n",
       "      <td>0.277656</td>\n",
       "      <td>0.311206</td>\n",
       "    </tr>\n",
       "    <tr>\n",
       "      <th>GSE103359_S15010_genesdiff_HS179_HS190_F330</th>\n",
       "      <td>0.665615</td>\n",
       "      <td>1.000000</td>\n",
       "      <td>0.796785</td>\n",
       "      <td>0.143618</td>\n",
       "      <td>0.405349</td>\n",
       "    </tr>\n",
       "    <tr>\n",
       "      <th>GSE104704_F600</th>\n",
       "      <td>0.619709</td>\n",
       "      <td>0.796785</td>\n",
       "      <td>1.000000</td>\n",
       "      <td>0.326417</td>\n",
       "      <td>0.326476</td>\n",
       "    </tr>\n",
       "    <tr>\n",
       "      <th>GSE111789_down_S200</th>\n",
       "      <td>0.277656</td>\n",
       "      <td>0.143618</td>\n",
       "      <td>0.326417</td>\n",
       "      <td>1.000000</td>\n",
       "      <td>0.454049</td>\n",
       "    </tr>\n",
       "    <tr>\n",
       "      <th>GSE111789_up_S200</th>\n",
       "      <td>0.311206</td>\n",
       "      <td>0.405349</td>\n",
       "      <td>0.326476</td>\n",
       "      <td>0.454049</td>\n",
       "      <td>1.000000</td>\n",
       "    </tr>\n",
       "  </tbody>\n",
       "</table>\n",
       "</div>"
      ],
      "text/plain": [
       "                                             GSE103359_S14061_mm9_genesdiff_groups_F382  \\\n",
       "GSE103359_S14061_mm9_genesdiff_groups_F382                                     1.000000   \n",
       "GSE103359_S15010_genesdiff_HS179_HS190_F330                                    0.665615   \n",
       "GSE104704_F600                                                                 0.619709   \n",
       "GSE111789_down_S200                                                            0.277656   \n",
       "GSE111789_up_S200                                                              0.311206   \n",
       "\n",
       "                                             GSE103359_S15010_genesdiff_HS179_HS190_F330  \\\n",
       "GSE103359_S14061_mm9_genesdiff_groups_F382                                      0.665615   \n",
       "GSE103359_S15010_genesdiff_HS179_HS190_F330                                     1.000000   \n",
       "GSE104704_F600                                                                  0.796785   \n",
       "GSE111789_down_S200                                                             0.143618   \n",
       "GSE111789_up_S200                                                               0.405349   \n",
       "\n",
       "                                             GSE104704_F600  \\\n",
       "GSE103359_S14061_mm9_genesdiff_groups_F382         0.619709   \n",
       "GSE103359_S15010_genesdiff_HS179_HS190_F330        0.796785   \n",
       "GSE104704_F600                                     1.000000   \n",
       "GSE111789_down_S200                                0.326417   \n",
       "GSE111789_up_S200                                  0.326476   \n",
       "\n",
       "                                             GSE111789_down_S200  \\\n",
       "GSE103359_S14061_mm9_genesdiff_groups_F382              0.277656   \n",
       "GSE103359_S15010_genesdiff_HS179_HS190_F330             0.143618   \n",
       "GSE104704_F600                                          0.326417   \n",
       "GSE111789_down_S200                                     1.000000   \n",
       "GSE111789_up_S200                                       0.454049   \n",
       "\n",
       "                                             GSE111789_up_S200  \n",
       "GSE103359_S14061_mm9_genesdiff_groups_F382            0.311206  \n",
       "GSE103359_S15010_genesdiff_HS179_HS190_F330           0.405349  \n",
       "GSE104704_F600                                        0.326476  \n",
       "GSE111789_down_S200                                   0.454049  \n",
       "GSE111789_up_S200                                     1.000000  "
      ]
     },
     "execution_count": 20,
     "metadata": {},
     "output_type": "execute_result"
    }
   ],
   "source": [
    "cos_sim_df.iloc[:5, :5]"
   ]
  },
  {
   "cell_type": "code",
   "execution_count": 21,
   "metadata": {},
   "outputs": [],
   "source": [
    "euc_dist_df.to_pickle('../data/%s_DIST_EUC.pkl'%lib_name)\n",
    "cos_sim_df.to_pickle('../data/%s_DIST_COS.pkl'%lib_name)"
   ]
  },
  {
   "cell_type": "markdown",
   "metadata": {},
   "source": [
    "### Demo for loading results"
   ]
  },
  {
   "cell_type": "code",
   "execution_count": 23,
   "metadata": {},
   "outputs": [
    {
     "data": {
      "text/plain": [
       "True"
      ]
     },
     "execution_count": 23,
     "metadata": {},
     "output_type": "execute_result"
    }
   ],
   "source": [
    "cos_sim_df2 = pd.read_pickle('../data/%s_DIST_COS.pkl'%lib_name)\n",
    "np.all(cos_sim_df == cos_sim_df2)"
   ]
  },
  {
   "cell_type": "markdown",
   "metadata": {},
   "source": [
    "# Clustergrammer"
   ]
  },
  {
   "cell_type": "code",
   "execution_count": 24,
   "metadata": {},
   "outputs": [],
   "source": [
    "# import widget classes and instantiate Network instance\n",
    "from clustergrammer_widget import *"
   ]
  },
  {
   "cell_type": "markdown",
   "metadata": {},
   "source": [
    "### Cosine similarities"
   ]
  },
  {
   "cell_type": "code",
   "execution_count": 25,
   "metadata": {},
   "outputs": [
    {
     "data": {
      "application/vnd.jupyter.widget-view+json": {
       "model_id": "4bed84b9cec34523b8d09ee0deed0a20",
       "version_major": 2,
       "version_minor": 0
      },
      "text/plain": [
       "clustergrammer_widget(network='{\"row_nodes\": [{\"name\": \"GSE103359_S14061_mm9_genesdiff_groups_F382\", \"ini\": 70…"
      ]
     },
     "metadata": {},
     "output_type": "display_data"
    }
   ],
   "source": [
    "net = Network(clustergrammer_widget)\n",
    "\n",
    "# load matrix file\n",
    "net.load_df(cos_sim_df)\n",
    "\n",
    "# cluster using default parameters\n",
    "net.cluster()\n",
    "\n",
    "# make interactive widget\n",
    "net.widget()"
   ]
  },
  {
   "cell_type": "code",
   "execution_count": null,
   "metadata": {},
   "outputs": [],
   "source": []
  }
 ],
 "metadata": {
  "kernelspec": {
   "display_name": "Python 3",
   "language": "python",
   "name": "python3"
  },
  "language_info": {
   "codemirror_mode": {
    "name": "ipython",
    "version": 3
   },
   "file_extension": ".py",
   "mimetype": "text/x-python",
   "name": "python",
   "nbconvert_exporter": "python",
   "pygments_lexer": "ipython3",
   "version": "3.7.3"
  }
 },
 "nbformat": 4,
 "nbformat_minor": 2
}
