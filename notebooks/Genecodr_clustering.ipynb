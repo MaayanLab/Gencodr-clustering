{
 "cells": [
  {
   "cell_type": "markdown",
   "metadata": {},
   "source": [
    "# Using Genecodr to visualize gene sets\n",
    "\n",
    "##### Author: Damon Pham\n",
    "\n",
    "This demo takes in a gmt file, and embeds each of its gene sets into the latent space of a variational autoencoder (VAE). The VAE has been trained on 700k+ gene sets from Enrichr and ChEA3 libraries, and user-submitted Enrichr queries. The clustering of the gene sets within the latent space is visualized via Clustergrammer."
   ]
  },
  {
   "cell_type": "markdown",
   "metadata": {},
   "source": [
    "# Imports"
   ]
  },
  {
   "cell_type": "code",
   "execution_count": null,
   "metadata": {},
   "outputs": [],
   "source": [
    "import os\n",
    "import numpy as np\n",
    "import scipy as sp\n",
    "import pandas as pd"
   ]
  },
  {
   "cell_type": "code",
   "execution_count": null,
   "metadata": {},
   "outputs": [],
   "source": [
    "from sklearn.preprocessing import normalize\n",
    "from sklearn.metrics import pairwise_distances\n",
    "from sklearn.metrics.pairwise import cosine_similarity"
   ]
  },
  {
   "cell_type": "code",
   "execution_count": null,
   "metadata": {},
   "outputs": [],
   "source": [
    "all_genes = pd.read_csv('../models/gene_name_conversion.tsv', sep='\\t', index_col=0)"
   ]
  },
  {
   "cell_type": "markdown",
   "metadata": {},
   "source": [
    "Additional requirements (from imported scripts):\n",
    "* csv\n",
    "* itertools\n",
    "* pickle\n",
    "* h5py\n",
    "* h5sparse\n",
    "* scipy\n",
    "* keras"
   ]
  },
  {
   "cell_type": "code",
   "execution_count": null,
   "metadata": {},
   "outputs": [],
   "source": [
    "os.chdir('../scripts')\n",
    "from gvm_scripts import *\n",
    "from vae_scripts import *\n",
    "os.chdir('../notebooks')"
   ]
  },
  {
   "cell_type": "markdown",
   "metadata": {},
   "source": [
    "### VAE weights"
   ]
  },
  {
   "cell_type": "markdown",
   "metadata": {},
   "source": [
    "See the README for a link to download weights for the best VAE model."
   ]
  },
  {
   "cell_type": "code",
   "execution_count": null,
   "metadata": {},
   "outputs": [],
   "source": [
    "vae_fname = '../models/vae_weights_1500m_100l.h5'\n",
    "assert os.path.exists(vae_fname)"
   ]
  },
  {
   "cell_type": "markdown",
   "metadata": {},
   "source": [
    "# Format gmt"
   ]
  },
  {
   "cell_type": "markdown",
   "metadata": {},
   "source": [
    "### Convert the gmt to a gene vector matrix (gvm)"
   ]
  },
  {
   "cell_type": "markdown",
   "metadata": {},
   "source": [
    "Your gmt must:\n",
    "* separate entries within a geneset by tabs, and separate genesets by newlines.\n",
    "* have sample names in the first entry of a row only (before the first tab). Anything after the first tab is interpreted as a gene. \n",
    "* have no empty rows, and have each row include a sample name and at least one gene.\n",
    "\n",
    "The demo file is the ARCHS4 Tissues gmt from Enrichr. \n",
    "To use your own gmt, substitute its file path into the line below."
   ]
  },
  {
   "cell_type": "code",
   "execution_count": null,
   "metadata": {},
   "outputs": [],
   "source": [
    "### YOUR GMT FILE ############\n",
    "gmt_fname = '../data/demo.txt'\n",
    "##############################"
   ]
  },
  {
   "cell_type": "code",
   "execution_count": null,
   "metadata": {},
   "outputs": [],
   "source": [
    "lib_name = os.path.splitext(gmt_fname.rsplit('/', 1)[-1])[0]\n",
    "gvm_fname = '../data/' + lib_name + '.h5'\n",
    "formatted_gvm_fname = '../data/' + lib_name + '_FORMATTED.h5'"
   ]
  },
  {
   "cell_type": "code",
   "execution_count": null,
   "metadata": {},
   "outputs": [],
   "source": [
    "if os.path.isfile(gvm_fname): \n",
    "    gvm = open_gvm(gvm_fname)\n",
    "else:\n",
    "    gvm = convert_genesetlist(get_genesetlist(gmt_fname, 'gmt_fname'), \n",
    "                              to='gvm_h5',\n",
    "                              output_fname=gvm_fname)"
   ]
  },
  {
   "cell_type": "markdown",
   "metadata": {},
   "source": [
    "The gvm object is a dictionary with the data in 'gvm', row-index in 'idx', and column-index in 'col'.\n",
    "\n",
    "Each row vector is a geneset. The number of rows is the number of samples; the number of columns is the total number of genes."
   ]
  },
  {
   "cell_type": "code",
   "execution_count": null,
   "metadata": {},
   "outputs": [],
   "source": [
    "print('Pre-formatting, the gvm has %d rows, or samples/genesets, and %d columns, or genes.'%gvm['gvm'].shape)"
   ]
  },
  {
   "cell_type": "code",
   "execution_count": null,
   "metadata": {},
   "outputs": [],
   "source": [
    "print('First five samples:')\n",
    "gvm['idx'][:5]"
   ]
  },
  {
   "cell_type": "code",
   "execution_count": null,
   "metadata": {},
   "outputs": [],
   "source": [
    "print('First five genes:')\n",
    "gvm['col'][:5]"
   ]
  },
  {
   "cell_type": "markdown",
   "metadata": {},
   "source": [
    "### Format the gvm's gene column-index to match that of the matrix used to train the autoencoder"
   ]
  },
  {
   "cell_type": "markdown",
   "metadata": {},
   "source": [
    "Formatting will:\n",
    "* __be skipped, if a previously-made formatted gvm exists.__\n",
    "* capitalize gene names.\n",
    "* remove gene name suffixes, if > 10% of gene names have commas or underscores. (e.g. 'AATF,1.0' --> 'AATF).\n",
    "* convert gene names to HUGO identifiers.\n",
    "* discard unconvertible gene names.\n",
    "* discard \"rare\" genes: genes not included in the ~20,000 used to train the VAE.\n",
    "* take the union for genes mapped onto the same HUGO identifier.\n",
    "* __drop samples which have less than `min_gs_size` genes, or have lost more than `max_gs_loss` of their genes.__\n",
    "* re-label the gene index with numerical gene IDs (gene names can be recovered with `gene_name_conversion.tsv`).\n",
    "* re-order the column and row indices.\n",
    "* __save the new gvm to `formatted_gvm_fname`__\n",
    "\n",
    "Modify the below chunk to change the bolded actions."
   ]
  },
  {
   "cell_type": "code",
   "execution_count": null,
   "metadata": {},
   "outputs": [],
   "source": [
    "summary = format_gvm_h5(gvm_fname = gvm_fname, \n",
    "                        all_genes = all_genes,\n",
    "                        output_fname = formatted_gvm_fname, # <-- desired output file name\n",
    "                        max_gs_loss=1.0, # <-- samples which have lost a greater proportion of genes are removed.\n",
    "                        min_gs_size=1, # <-- samples which become smaller than this are removed.\n",
    "                        overwrite = True) # <-- should `output_fname` be overwritten, if it exists?"
   ]
  },
  {
   "cell_type": "code",
   "execution_count": null,
   "metadata": {},
   "outputs": [],
   "source": [
    "n_labels, n_genes = get_gvm_size(formatted_gvm_fname)\n",
    "print('After formatting, the gvm has %d rows, or samples/genesets, and %d columns, or genes.'%get_gvm_size(formatted_gvm_fname))\n",
    "print('(Columns for genes not present in the gmt will be emtpy, and are necessary for padding the vectors.)')"
   ]
  },
  {
   "cell_type": "markdown",
   "metadata": {},
   "source": [
    "# Get Latent Space Embedding"
   ]
  },
  {
   "cell_type": "markdown",
   "metadata": {},
   "source": [
    "### Construct autoencoder"
   ]
  },
  {
   "cell_type": "markdown",
   "metadata": {},
   "source": [
    "See the README for a link to download weights for the best VAE model.\n",
    "\n",
    "The backup weights included in this repo are less-optimal, but within Github's file size limits."
   ]
  },
  {
   "cell_type": "code",
   "execution_count": null,
   "metadata": {},
   "outputs": [],
   "source": [
    "m, l = 1500, 100\n",
    "model = build_vae(input_dim=n_genes, middle_dim = m, latent_dim = l, variational=True)\n",
    "vae, enc, dec = (model['vae'], model['enc'], model['dec'])\n",
    "vae.load_weights(vae_fname)            "
   ]
  },
  {
   "cell_type": "markdown",
   "metadata": {},
   "source": [
    "### Encode genesets"
   ]
  },
  {
   "cell_type": "code",
   "execution_count": null,
   "metadata": {},
   "outputs": [],
   "source": [
    "z = enc.predict_generator(\n",
    "    GeneVec_Generator(formatted_gvm_fname, gvm_path='gvm', batch_size=1000, shuffle=False),\n",
    "    workers=4, use_multiprocessing=True, verbose=0)\n",
    "z.shape"
   ]
  },
  {
   "cell_type": "markdown",
   "metadata": {},
   "source": [
    "# Compute Proximity Matrices"
   ]
  },
  {
   "cell_type": "markdown",
   "metadata": {},
   "source": [
    "The cosine distance has been shown to perform better on an enrichment benchmark. Thus, this demo uses the cosine distance to perform clustering. Euclidean distance is computed below for completion."
   ]
  },
  {
   "cell_type": "markdown",
   "metadata": {},
   "source": [
    "### Euclidean distance"
   ]
  },
  {
   "cell_type": "code",
   "execution_count": null,
   "metadata": {},
   "outputs": [],
   "source": [
    "euc_dist = pairwise_distances(z, metric='euclidean')"
   ]
  },
  {
   "cell_type": "code",
   "execution_count": null,
   "metadata": {},
   "outputs": [],
   "source": [
    "np.min(euc_dist), np.max(euc_dist)"
   ]
  },
  {
   "cell_type": "markdown",
   "metadata": {},
   "source": [
    "### Cosine similarity"
   ]
  },
  {
   "cell_type": "code",
   "execution_count": null,
   "metadata": {},
   "outputs": [],
   "source": [
    "cos_sim = cosine_similarity(z)"
   ]
  },
  {
   "cell_type": "code",
   "execution_count": null,
   "metadata": {},
   "outputs": [],
   "source": [
    "np.min(cos_sim), np.max(cos_sim)"
   ]
  },
  {
   "cell_type": "markdown",
   "metadata": {},
   "source": [
    "### Save results to pd.DataFrame"
   ]
  },
  {
   "cell_type": "code",
   "execution_count": null,
   "metadata": {},
   "outputs": [],
   "source": [
    "labels = open_gvm(formatted_gvm_fname)['idx']\n",
    "\n",
    "euc_dist_df = pd.DataFrame(euc_dist, index=labels, columns=labels)\n",
    "cos_sim_df = pd.DataFrame(cos_sim, index=labels, columns=labels) "
   ]
  },
  {
   "cell_type": "code",
   "execution_count": null,
   "metadata": {},
   "outputs": [],
   "source": [
    "euc_dist_df.iloc[:5, :5]"
   ]
  },
  {
   "cell_type": "code",
   "execution_count": null,
   "metadata": {
    "scrolled": true
   },
   "outputs": [],
   "source": [
    "cos_sim_df.iloc[:5, :5]"
   ]
  },
  {
   "cell_type": "markdown",
   "metadata": {},
   "source": [
    "### Demo for saving & loading results"
   ]
  },
  {
   "cell_type": "code",
   "execution_count": null,
   "metadata": {},
   "outputs": [],
   "source": [
    "euc_dist_df.to_pickle('../data/%s_DIST_EUC.pkl'%lib_name)\n",
    "cos_sim_df.to_pickle('../data/%s_DIST_COS.pkl'%lib_name)\n",
    "\n",
    "# could also use:\n",
    "# cos_sim_df.to_csv('COS_SIM_CSV_PATH.csv')"
   ]
  },
  {
   "cell_type": "code",
   "execution_count": null,
   "metadata": {},
   "outputs": [],
   "source": [
    "cos_sim_df2 = pd.read_pickle('../data/%s_DIST_COS.pkl'%lib_name)\n",
    "assert np.all(cos_sim_df == cos_sim_df2)"
   ]
  },
  {
   "cell_type": "markdown",
   "metadata": {},
   "source": [
    "# Clustergrammer"
   ]
  },
  {
   "cell_type": "code",
   "execution_count": null,
   "metadata": {},
   "outputs": [],
   "source": [
    "# import widget classes and instantiate Network instance\n",
    "from clustergrammer_widget import *"
   ]
  },
  {
   "cell_type": "markdown",
   "metadata": {},
   "source": [
    "### Cosine similarities"
   ]
  },
  {
   "cell_type": "code",
   "execution_count": null,
   "metadata": {},
   "outputs": [],
   "source": [
    "net = Network(clustergrammer_widget)\n",
    "\n",
    "# load matrix file\n",
    "net.load_df(cos_sim_df)\n",
    "\n",
    "# cluster using default parameters\n",
    "net.cluster()\n",
    "\n",
    "# make interactive widget\n",
    "net.widget()"
   ]
  }
 ],
 "metadata": {
  "kernelspec": {
   "display_name": "Python 3",
   "language": "python",
   "name": "python3"
  },
  "language_info": {
   "codemirror_mode": {
    "name": "ipython",
    "version": 3
   },
   "file_extension": ".py",
   "mimetype": "text/x-python",
   "name": "python",
   "nbconvert_exporter": "python",
   "pygments_lexer": "ipython3",
   "version": "3.6.5"
  }
 },
 "nbformat": 4,
 "nbformat_minor": 2
}
